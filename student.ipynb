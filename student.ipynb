{
 "cells": [
  {
   "cell_type": "markdown",
   "metadata": {},
   "source": [
    "## Final Project Submission\n",
    "\n",
    "Please fill out:\n",
    "* Student name: Brian Caterfino\n",
    "* Student pace: full time\n",
    "* Scheduled project review date/time: \n",
    "* Instructor name: Rafael Carrasco\n",
    "* Blog post URL:\n"
   ]
  },
  {
   "cell_type": "markdown",
   "metadata": {},
   "source": [
    "# IMDb Review Sentiment"
   ]
  },
  {
   "cell_type": "markdown",
   "metadata": {},
   "source": [
    "### Using a neural network and Natural Language Processing to analyze the sentiment of IMDb reviews"
   ]
  },
  {
   "cell_type": "markdown",
   "metadata": {},
   "source": [
    "## Introduction -- Obtaining Data"
   ]
  },
  {
   "cell_type": "markdown",
   "metadata": {},
   "source": [
    "#### The first step is to import the necesary libraries from Keras, which has the IMDB dataset built in."
   ]
  },
  {
   "cell_type": "code",
   "execution_count": 2,
   "metadata": {},
   "outputs": [
    {
     "name": "stderr",
     "output_type": "stream",
     "text": [
      "[nltk_data] Downloading package stopwords to\n",
      "[nltk_data]     C:\\Users\\Brian\\AppData\\Roaming\\nltk_data...\n",
      "[nltk_data]   Package stopwords is already up-to-date!\n"
     ]
    }
   ],
   "source": [
    "import pandas as pd\n",
    "import numpy as np\n",
    "import matplotlib.pylab as plt\n",
    "\n",
    "from keras import Sequential\n",
    "from keras.datasets import imdb\n",
    "from keras.preprocessing import sequence\n",
    "from keras.layers import Embedding, LSTM, Dense, Dropout, GRU, GlobalMaxPool1D\n",
    "\n",
    "\n",
    "from gensim.models import Word2Vec, Doc2Vec\n",
    "\n",
    "import keras\n",
    "from keras.preprocessing.text import Tokenizer\n",
    "from keras.utils.data_utils import get_file\n",
    "\n",
    "import re\n",
    "\n",
    "import requests\n",
    "\n",
    "import nltk\n",
    "nltk.download('stopwords')\n",
    "from nltk import word_tokenize\n",
    "from nltk.corpus import stopwords\n",
    "from nltk.corpus import stopwords\n",
    "from nltk.tokenize import word_tokenize "
   ]
  },
  {
   "cell_type": "markdown",
   "metadata": {},
   "source": [
    "#### The IMDb dataset is built in to Keras, so we obtained the data through the importation of the keras IMDb dataset library. After obtaining this dataset, I find thatit is already prprocessed and tokenized into integer form. This will cause issuesif I am trying to edit the words contined in the dataset, such as removing stopwords, so I will first store a form of the dataset as the words, rather than the numbers that represent the words."
   ]
  },
  {
   "cell_type": "code",
   "execution_count": 4,
   "metadata": {},
   "outputs": [
    {
     "name": "stdout",
     "output_type": "stream",
     "text": [
      "  this film was just brilliant casting   story direction  really  the part they played and you could just imagine being there robert  is an amazing actor and now the same being director  father came from the same   as myself so i loved the fact there was a real  with this film the   throughout the film were great it was just brilliant so much that i  the film as soon as it was released for  and would recommend it to everyone to watch and the   was amazing really  at the end it was so sad and you know what they say if you  at a film it must have been good and this definitely was also  to the two little  that played the  of  and paul they were just brilliant children are often left out of the   i think because the stars that play them all  up are such a big  for the whole film but these children are amazing and should be  for what they have done don't you think the whole story was so  because it was true and was  life after all that was  with us all\n"
     ]
    }
   ],
   "source": [
    "NUM_WORDS=1000 \n",
    "INDEX_FROM=3   \n",
    "\n",
    "train,test = keras.datasets.imdb.load_data(num_words=NUM_WORDS, index_from=INDEX_FROM)\n",
    "train_x,train_y = train\n",
    "test_x,test_y = test\n",
    "\n",
    "word_to_id = keras.datasets.imdb.get_word_index()\n",
    "word_to_id = {k:(v+INDEX_FROM) for k,v in word_to_id.items()}\n",
    "word_to_id[\"<PAD>\"] = 0\n",
    "word_to_id[\" \"] = 1\n",
    "word_to_id[\"\"] = 2\n",
    "\n",
    "id_to_word = {value:key for key,value in word_to_id.items()}\n",
    "print(' '.join(id_to_word[id] for id in train_x[0] ))"
   ]
  },
  {
   "cell_type": "code",
   "execution_count": 5,
   "metadata": {},
   "outputs": [],
   "source": [
    "xtrainwords=[]\n",
    "for x in range(len(train_x)):\n",
    "    xtrainwords.append(' '.join(id_to_word[id] for id in train_x[x] ))"
   ]
  },
  {
   "cell_type": "markdown",
   "metadata": {},
   "source": [
    "#### Now that I have found a method to convert the integers to words, I create a framework to store the results of this operation on the training set, and here I look into what this framework contains."
   ]
  },
  {
   "cell_type": "code",
   "execution_count": 6,
   "metadata": {},
   "outputs": [
    {
     "data": {
      "text/plain": [
       "\"  this film was just brilliant casting   story direction  really  the part they played and you could just imagine being there robert  is an amazing actor and now the same being director  father came from the same   as myself so i loved the fact there was a real  with this film the   throughout the film were great it was just brilliant so much that i  the film as soon as it was released for  and would recommend it to everyone to watch and the   was amazing really  at the end it was so sad and you know what they say if you  at a film it must have been good and this definitely was also  to the two little  that played the  of  and paul they were just brilliant children are often left out of the   i think because the stars that play them all  up are such a big  for the whole film but these children are amazing and should be  for what they have done don't you think the whole story was so  because it was true and was  life after all that was  with us all\""
      ]
     },
     "execution_count": 6,
     "metadata": {},
     "output_type": "execute_result"
    }
   ],
   "source": [
    "xtrainwords[0]"
   ]
  },
  {
   "cell_type": "markdown",
   "metadata": {},
   "source": [
    "#### Now, I remove the stopwords from the word version of the dataset, and take a look at the results."
   ]
  },
  {
   "cell_type": "code",
   "execution_count": 7,
   "metadata": {},
   "outputs": [],
   "source": [
    "cxtrain=[]\n",
    "pattern = re.compile(r'\\b(' + r'|'.join(stopwords.words('english')) + r')\\b\\s*')\n",
    "for x in range(len(xtrainwords)):\n",
    "    cxtrain.append(pattern.sub('', xtrainwords[x])) "
   ]
  },
  {
   "cell_type": "code",
   "execution_count": 8,
   "metadata": {},
   "outputs": [
    {
     "data": {
      "text/plain": [
       "\"  saw movie  2 hours later head still  plot awful jokes bad 'br br 1 2 scenes movie enough  br br 2 evil  br br movie 20 times better hour series even came saying 'like movie   also   \""
      ]
     },
     "execution_count": 8,
     "metadata": {},
     "output_type": "execute_result"
    }
   ],
   "source": [
    "cxtrain[2400]"
   ]
  },
  {
   "cell_type": "markdown",
   "metadata": {},
   "source": [
    "#### Nowit is time to do the same for the testing set of reviews"
   ]
  },
  {
   "cell_type": "code",
   "execution_count": 9,
   "metadata": {},
   "outputs": [],
   "source": [
    "xtestwords=[]\n",
    "for x in range(len(test_x)):\n",
    "    xtestwords.append(' '.join(id_to_word[id] for id in test_x[x] ))"
   ]
  },
  {
   "cell_type": "code",
   "execution_count": 10,
   "metadata": {},
   "outputs": [],
   "source": [
    "\n",
    "cxtest=[]\n",
    "pattern = re.compile(r'\\b(' + r'|'.join(stopwords.words('english')) + r')\\b\\s*')\n",
    "for x in range(len(xtestwords)):\n",
    "    cxtest.append(pattern.sub('', xtestwords[x])) \n"
   ]
  },
  {
   "cell_type": "code",
   "execution_count": 11,
   "metadata": {},
   "outputs": [
    {
     "data": {
      "text/plain": [
       "\"  please give one miss br br   rest cast  terrible performances show br br 'know michael  could one almost seemed know 'going work performance quite  fans give miss\""
      ]
     },
     "execution_count": 11,
     "metadata": {},
     "output_type": "execute_result"
    }
   ],
   "source": [
    "cxtest[0]"
   ]
  },
  {
   "cell_type": "code",
   "execution_count": 12,
   "metadata": {},
   "outputs": [],
   "source": [
    "cxtrain1 = [x for x in cxtrain if not isinstance(x, int)]\n",
    "cxtest1 = [x for x in cxtest if not isinstance(x, int)]"
   ]
  },
  {
   "cell_type": "code",
   "execution_count": 13,
   "metadata": {},
   "outputs": [
    {
     "data": {
      "text/plain": [
       "\"  film brilliant casting   story direction  really  part played could imagine robert  amazing actor director  father came loved fact real  film throughout film great brilliant much film soon released would recommend everyone watch amazing really  end sad know say film must good definitely also  two little  played paul brilliant children often left think stars play big  whole film children amazing done 'think whole story true life us \""
      ]
     },
     "execution_count": 13,
     "metadata": {},
     "output_type": "execute_result"
    }
   ],
   "source": [
    "cxtrain1[0]"
   ]
  },
  {
   "cell_type": "code",
   "execution_count": 14,
   "metadata": {},
   "outputs": [
    {
     "data": {
      "text/plain": [
       "\"  film brilliant casting   story direction  really  part played could imagine robert  amazing actor director  father came loved fact real  film throughout film great brilliant much film soon released would recommend everyone watch amazing really  end sad know say film must good definitely also  two little  played paul brilliant children often left think stars play big  whole film children amazing done 'think whole story true life us \""
      ]
     },
     "execution_count": 14,
     "metadata": {},
     "output_type": "execute_result"
    }
   ],
   "source": [
    "cxtrain[0]"
   ]
  },
  {
   "cell_type": "markdown",
   "metadata": {},
   "source": [
    "#### Here, I retokenize the edited dataset so I can run tests on the data with stop words removed."
   ]
  },
  {
   "cell_type": "code",
   "execution_count": 15,
   "metadata": {},
   "outputs": [
    {
     "data": {
      "text/plain": [
       "25000"
      ]
     },
     "execution_count": 15,
     "metadata": {},
     "output_type": "execute_result"
    }
   ],
   "source": [
    "tokenizer = Tokenizer(num_words=20000)\n",
    "tokenizer.fit_on_texts(list(cxtrain1))\n",
    "list_tokenized_headlines = tokenizer.texts_to_sequences(cxtrain)\n",
    "X_t = sequence.pad_sequences(list_tokenized_headlines, maxlen=100)\n",
    "\n",
    "len(X_t)"
   ]
  },
  {
   "cell_type": "markdown",
   "metadata": {},
   "source": [
    "#### ANd do the ame for the testing set."
   ]
  },
  {
   "cell_type": "code",
   "execution_count": 16,
   "metadata": {},
   "outputs": [
    {
     "data": {
      "text/plain": [
       "25000"
      ]
     },
     "execution_count": 16,
     "metadata": {},
     "output_type": "execute_result"
    }
   ],
   "source": [
    "tokenizer2 = Tokenizer(num_words=20000)\n",
    "tokenizer2.fit_on_texts(list(cxtest1))\n",
    "list_tokenized_headlines2 = tokenizer2.texts_to_sequences(cxtest)\n",
    "X_t2 = sequence.pad_sequences(list_tokenized_headlines2, maxlen=100)\n",
    "\n",
    "len(X_t)"
   ]
  },
  {
   "cell_type": "markdown",
   "metadata": {},
   "source": [
    "#### And now I pad the data to input them into the model."
   ]
  },
  {
   "cell_type": "code",
   "execution_count": 17,
   "metadata": {},
   "outputs": [],
   "source": [
    "max_words = 500\n",
    "xtrain_new = sequence.pad_sequences(X_t, maxlen=max_words)\n",
    "xtest_new = sequence.pad_sequences(X_t2, maxlen=max_words)"
   ]
  },
  {
   "cell_type": "markdown",
   "metadata": {},
   "source": [
    "#### And finally I convert the text data into a Dataframe to make plugging it into the model more convenient."
   ]
  },
  {
   "cell_type": "code",
   "execution_count": 18,
   "metadata": {},
   "outputs": [
    {
     "data": {
      "text/html": [
       "<div>\n",
       "<style scoped>\n",
       "    .dataframe tbody tr th:only-of-type {\n",
       "        vertical-align: middle;\n",
       "    }\n",
       "\n",
       "    .dataframe tbody tr th {\n",
       "        vertical-align: top;\n",
       "    }\n",
       "\n",
       "    .dataframe thead th {\n",
       "        text-align: right;\n",
       "    }\n",
       "</style>\n",
       "<table border=\"1\" class=\"dataframe\">\n",
       "  <thead>\n",
       "    <tr style=\"text-align: right;\">\n",
       "      <th></th>\n",
       "      <th>text</th>\n",
       "    </tr>\n",
       "  </thead>\n",
       "  <tbody>\n",
       "    <tr>\n",
       "      <th>0</th>\n",
       "      <td>film brilliant casting   story direction  re...</td>\n",
       "    </tr>\n",
       "    <tr>\n",
       "      <th>1</th>\n",
       "      <td>big  big  bad music words best  terrible mov...</td>\n",
       "    </tr>\n",
       "    <tr>\n",
       "      <th>2</th>\n",
       "      <td>one worst films friends watching film audien...</td>\n",
       "    </tr>\n",
       "    <tr>\n",
       "      <th>3</th>\n",
       "      <td>sort many years still see eye lady mother  b...</td>\n",
       "    </tr>\n",
       "    <tr>\n",
       "      <th>4</th>\n",
       "      <td>worst  life br br movie 5 'get cheap laughs ...</td>\n",
       "    </tr>\n",
       "  </tbody>\n",
       "</table>\n",
       "</div>"
      ],
      "text/plain": [
       "                                                text\n",
       "0    film brilliant casting   story direction  re...\n",
       "1    big  big  bad music words best  terrible mov...\n",
       "2    one worst films friends watching film audien...\n",
       "3    sort many years still see eye lady mother  b...\n",
       "4    worst  life br br movie 5 'get cheap laughs ..."
      ]
     },
     "execution_count": 18,
     "metadata": {},
     "output_type": "execute_result"
    }
   ],
   "source": [
    "headers = ['text']\n",
    "df = pd.DataFrame(cxtrain1,columns=headers)\n",
    "df.head()"
   ]
  },
  {
   "cell_type": "code",
   "execution_count": 19,
   "metadata": {},
   "outputs": [],
   "source": [
    "data = df['text'].map(word_tokenize)"
   ]
  },
  {
   "cell_type": "markdown",
   "metadata": {},
   "source": [
    "#### Now, I build the framework for the RNN with three layers, and print the summary."
   ]
  },
  {
   "cell_type": "code",
   "execution_count": 20,
   "metadata": {},
   "outputs": [
    {
     "name": "stderr",
     "output_type": "stream",
     "text": [
      "C:\\Users\\Brian\\Anaconda3\\lib\\site-packages\\ipykernel_launcher.py:3: UserWarning: The `dropout` argument is no longer support in `Embedding`. You can apply a `keras.layers.SpatialDropout1D` layer right after the `Embedding` layer to get the same behavior.\n",
      "  This is separate from the ipykernel package so we can avoid doing imports until\n"
     ]
    },
    {
     "name": "stdout",
     "output_type": "stream",
     "text": [
      "_________________________________________________________________\n",
      "Layer (type)                 Output Shape              Param #   \n",
      "=================================================================\n",
      "embedding_1 (Embedding)      (None, 500, 64)           384000    \n",
      "_________________________________________________________________\n",
      "lstm_1 (LSTM)                (None, 50)                23000     \n",
      "_________________________________________________________________\n",
      "dense_1 (Dense)              (None, 1)                 51        \n",
      "=================================================================\n",
      "Total params: 407,051\n",
      "Trainable params: 407,051\n",
      "Non-trainable params: 0\n",
      "_________________________________________________________________\n",
      "None\n"
     ]
    }
   ],
   "source": [
    "embedding_size=64\n",
    "model=Sequential()\n",
    "model.add(Embedding(6000, embedding_size, input_length=max_words, dropout=0.2))\n",
    "model.add(LSTM(50))\n",
    "model.add(Dense(1, activation='sigmoid'))\n",
    "print(model.summary())"
   ]
  },
  {
   "cell_type": "markdown",
   "metadata": {},
   "source": [
    "#### This code sets the loss function and other parameters."
   ]
  },
  {
   "cell_type": "code",
   "execution_count": 21,
   "metadata": {},
   "outputs": [],
   "source": [
    "model.compile(loss='binary_crossentropy', optimizer='adam', metrics=['accuracy'])"
   ]
  },
  {
   "cell_type": "markdown",
   "metadata": {},
   "source": [
    "#### Now, I set the batch size and number of epochs then run the RNN."
   ]
  },
  {
   "cell_type": "code",
   "execution_count": 23,
   "metadata": {},
   "outputs": [
    {
     "name": "stdout",
     "output_type": "stream",
     "text": [
      "(25000, 500)\n",
      "(25000,)\n",
      "(25000, 500)\n"
     ]
    }
   ],
   "source": [
    "print(xtrain_new.shape)\n",
    "print(train_y.shape)\n",
    "print(xtest_new.shape)\n"
   ]
  },
  {
   "cell_type": "code",
   "execution_count": 24,
   "metadata": {},
   "outputs": [
    {
     "name": "stdout",
     "output_type": "stream",
     "text": [
      "Train on 20000 samples, validate on 5000 samples\n",
      "Epoch 1/2\n",
      "20000/20000 [==============================] - 130s 7ms/step - loss: 0.4326 - acc: 0.7956 - val_loss: 0.3528 - val_acc: 0.8430\n",
      "Epoch 2/2\n",
      "20000/20000 [==============================] - 133s 7ms/step - loss: 0.3239 - acc: 0.8643 - val_loss: 0.3452 - val_acc: 0.8458\n"
     ]
    },
    {
     "data": {
      "text/plain": [
       "<keras.callbacks.History at 0xa6118cca20>"
      ]
     },
     "execution_count": 24,
     "metadata": {},
     "output_type": "execute_result"
    }
   ],
   "source": [
    "model.fit(xtrain_new, train_y, epochs=2, batch_size=64, validation_split=0.2)"
   ]
  },
  {
   "cell_type": "markdown",
   "metadata": {},
   "source": [
    "#### And now to test the accuracy of the RNN"
   ]
  },
  {
   "cell_type": "code",
   "execution_count": 25,
   "metadata": {},
   "outputs": [
    {
     "name": "stdout",
     "output_type": "stream",
     "text": [
      "Model Testing Accuracy: 0.87964\n"
     ]
    }
   ],
   "source": [
    "scores = model.evaluate(xtrain_new, train_y, verbose=0)\n",
    "print('Model Testing Accuracy:', scores[1])"
   ]
  },
  {
   "cell_type": "markdown",
   "metadata": {},
   "source": [
    "#### The model can predict the sentiment of the text reviews with an accuracy of around 88%\n",
    "#### Now I use WOrd2Vec to create some rankings and visualizations to better understand how the model predicts the sentiment"
   ]
  },
  {
   "cell_type": "code",
   "execution_count": 32,
   "metadata": {},
   "outputs": [],
   "source": [
    "model = Word2Vec(data, size=100, window=5, min_count=1, workers=4)\n",
    "model.train(data, total_examples=model.corpus_count, epochs=10)\n",
    "wv = model.wv\n"
   ]
  },
  {
   "cell_type": "code",
   "execution_count": 102,
   "metadata": {},
   "outputs": [
    {
     "data": {
      "text/plain": [
       "[('wonderful', 0.7636425495147705),\n",
       " ('excellent', 0.7488810420036316),\n",
       " ('fantastic', 0.719266414642334),\n",
       " ('fine', 0.6635482311248779),\n",
       " ('superb', 0.659011721611023),\n",
       " ('brilliant', 0.6331819295883179),\n",
       " ('amazing', 0.6245288848876953),\n",
       " ('good', 0.5828639268875122),\n",
       " (\"'great\", 0.5325589179992676),\n",
       " ('especially', 0.49584245681762695)]"
      ]
     },
     "execution_count": 102,
     "metadata": {},
     "output_type": "execute_result"
    }
   ],
   "source": [
    "wv.most_similar('great')"
   ]
  },
  {
   "cell_type": "code",
   "execution_count": 103,
   "metadata": {},
   "outputs": [
    {
     "data": {
      "text/plain": [
       "[('terrible', 0.7327402830123901),\n",
       " ('horrible', 0.7213531732559204),\n",
       " ('bad', 0.6476701498031616),\n",
       " (\"'terrible\", 0.5774345397949219),\n",
       " ('lame', 0.5335924029350281),\n",
       " (\"'save\", 0.5185357928276062),\n",
       " (\"'awful\", 0.5113906860351562),\n",
       " (\"'bad\", 0.5100107192993164),\n",
       " ('ridiculous', 0.5023415684700012),\n",
       " (\"film'production\", 0.49421292543411255)]"
      ]
     },
     "execution_count": 103,
     "metadata": {},
     "output_type": "execute_result"
    }
   ],
   "source": [
    "wv.most_similar('awful')"
   ]
  },
  {
   "cell_type": "code",
   "execution_count": 104,
   "metadata": {},
   "outputs": [],
   "source": [
    "a = wv.most_similar('great')\n",
    "b = wv.most_similar('awful') \n"
   ]
  },
  {
   "cell_type": "code",
   "execution_count": 105,
   "metadata": {},
   "outputs": [],
   "source": [
    "del a[8]\n",
    "del b[3]\n",
    "del b[6]\n",
    "del b[7]"
   ]
  },
  {
   "cell_type": "code",
   "execution_count": 111,
   "metadata": {},
   "outputs": [
    {
     "data": {
      "text/plain": [
       "[<matplotlib.lines.Line2D at 0x4bc9e7e748>]"
      ]
     },
     "execution_count": 111,
     "metadata": {},
     "output_type": "execute_result"
    },
    {
     "data": {
      "image/png": "[encoded data removed]",
      "text/plain": [
       "<Figure size 720x360 with 1 Axes>"
      ]
     },
     "metadata": {},
     "output_type": "display_data"
    }
   ],
   "source": [
    "x, y = zip(*a) # unpack a list of pairs into two tuples\n",
    "fig = plt.figure(figsize=(10, 5))\n",
    "ax = fig.add_subplot(111)\n",
    "plt.title('Top words in relation to great')\n",
    "plt.xlabel('Words')\n",
    "plt.ylabel('Ranking')\n",
    "ax.plot(x, y)"
   ]
  },
  {
   "cell_type": "code",
   "execution_count": 112,
   "metadata": {},
   "outputs": [
    {
     "data": {
      "text/plain": [
       "[<matplotlib.lines.Line2D at 0x4bc9ff8128>]"
      ]
     },
     "execution_count": 112,
     "metadata": {},
     "output_type": "execute_result"
    },
    {
     "data": {
      "image/png": "[encoded data removed]",
      "text/plain": [
       "<Figure size 720x360 with 1 Axes>"
      ]
     },
     "metadata": {},
     "output_type": "display_data"
    }
   ],
   "source": [
    "x, y = zip(*b) # unpack a list of pairs into two tuples\n",
    "fig = plt.figure(figsize=(10, 5))\n",
    "ax = fig.add_subplot(111)\n",
    "plt.title('Top words in relation to awful')\n",
    "plt.xlabel('Words')\n",
    "plt.ylabel('Ranking')\n",
    "ax.plot(x, y)"
   ]
  },
  {
   "cell_type": "code",
   "execution_count": 115,
   "metadata": {},
   "outputs": [
    {
     "data": {
      "image/png": "[encoded data removed]",
      "text/plain": [
       "<Figure size 432x288 with 1 Axes>"
      ]
     },
     "metadata": {},
     "output_type": "display_data"
    }
   ],
   "source": [
    "labels = 'Correct', 'Incorrect'\n",
    "sizes = [89.844, 10.156]\n",
    "explode = (0, 0.1)  # only \"explode\" the 2nd slice (i.e. 'Hogs')\n",
    "\n",
    "fig1, ax1 = plt.subplots()\n",
    "ax1.pie(sizes, explode=explode, labels=labels, autopct='%1.1f%%',\n",
    "        shadow=True, startangle=90)\n",
    "ax1.axis('equal')  # Equal aspect ratio ensures that pie is drawn as a circle.\n",
    "plt.title('Model Testing Accuracy')\n",
    "plt.show()"
   ]
  },
  {
   "cell_type": "code",
   "execution_count": 117,
   "metadata": {},
   "outputs": [
    {
     "data": {
      "image/png": "[encoded data removed]",
      "text/plain": [
       "<Figure size 432x288 with 1 Axes>"
      ]
     },
     "metadata": {},
     "output_type": "display_data"
    }
   ],
   "source": [
    "labels = 'Correct', 'Incorrect'\n",
    "sizes = [84.10, 15.90]\n",
    "explode = (0, 0.1)  # only \"explode\" the 2nd slice (i.e. 'Hogs')\n",
    "\n",
    "fig1, ax1 = plt.subplots()\n",
    "ax1.pie(sizes, explode=explode, labels=labels, autopct='%1.1f%%',\n",
    "        shadow=True, startangle=90)\n",
    "ax1.axis('equal')  # Equal aspect ratio ensures that pie is drawn as a circle.\n",
    "plt.title('Model Validation Accuracy')\n",
    "plt.show()"
   ]
  },
  {
   "cell_type": "markdown",
   "metadata": {},
   "source": [
    "# Conclusion"
   ]
  },
  {
   "cell_type": "markdown",
   "metadata": {},
   "source": [
    "#### The model is fairly accurate and has good results. "
   ]
  },
  {
   "cell_type": "code",
   "execution_count": null,
   "metadata": {},
   "outputs": [],
   "source": []
  }
 ],
 "metadata": {
  "kernelspec": {
   "display_name": "Python 3",
   "language": "python",
   "name": "python3"
  },
  "language_info": {
   "codemirror_mode": {
    "name": "ipython",
    "version": 3
   },
   "file_extension": ".py",
   "mimetype": "text/x-python",
   "name": "python",
   "nbconvert_exporter": "python",
   "pygments_lexer": "ipython3",
   "version": "3.6.5"
  }
 },
 "nbformat": 4,
 "nbformat_minor": 2
}
